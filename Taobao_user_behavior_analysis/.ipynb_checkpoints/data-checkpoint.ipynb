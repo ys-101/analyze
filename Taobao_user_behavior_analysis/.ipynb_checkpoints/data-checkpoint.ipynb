{
 "cells": [
  {
   "cell_type": "markdown",
   "metadata": {},
   "source": [
    "# 淘宝用户行为分析"
   ]
  },
  {
   "cell_type": "markdown",
   "metadata": {},
   "source": [
    "## 项目描述\n",
    "用户研究是产品设计的第一步，其中以大量数据为支撑的用户行为分析尤为重要，这个项目我们采用淘宝“百万级”用户数据，深度分析用户行为，主要包含基本用户购物情况数据统计，复购率分析，用户留存分析，获客分析，从时间维度分析每天，每周用户活跃度。用\n",
    "户行为漏斗图与各环节转换率分析，指导运营人员及时调整运营策略。"
   ]
  },
  {
   "cell_type": "markdown",
   "metadata": {},
   "source": [
    " 2014年是阿里巴巴集团移动电子商务业务快速发展的一年。例如，2014年11月11日的移动销售中的移动终端商品总销售额（GMV）占总GMV的42.6％。与PC时代相比，移动终端可以随时随地访问网络。此外，他们还拥有更丰富的背景数据，例如用户的位置信息，访问时间的规律性等。该数据基于阿里巴巴M-Commerce平台上的真实用户商品行为数据。同时，它提供了移动时代典型的位置信息。\n"
   ]
  },
  {
   "cell_type": "markdown",
   "metadata": {},
   "source": [
    "## 项目步骤\n",
    "### 主要完成目标如下：<br>\n",
    "1. 读取数据，数据抽样<br>\n",
    "2. 数据的描述性分析<br>\n",
    "3. 数据的一致性处理<br>\n",
    "4. 探索性分析：统计浏览量，独立访客数，分析有购买行为的用户数，复购率分析<br>\n",
    "   (1)统计pv：Page View, 即页面浏览量或点击量<br>\n",
    "   (2)UV（用户总数）：9924 UV(独立访客)：即Unique Visitor,访问网站的一台电脑客户端为一个访客。00:00-24:00内相同的客户端只被计算一次<br>\n",
    "5. 探索性分析：从时间维度分析用户行为<br>\n",
    "   (1)每周的用户行为数量变化趋势<br>\n",
    "   (2)每天PV变化趋势分析<br>\n",
    "   (3)分析一天中的不同时段用户的行为<br>\n",
    "6. 浏览量top10的产品<br>\n",
    "7. 转化率分析<br>\n",
    "   (1)单一环节转化率<br>\n",
    "   (2)总体转化率<br>"
   ]
  },
  {
   "cell_type": "code",
   "execution_count": 1,
   "metadata": {},
   "outputs": [],
   "source": [
    "import warnings\n",
    "warnings.filterwarnings(\"ignore\")"
   ]
  },
  {
   "cell_type": "markdown",
   "metadata": {},
   "source": [
    "### 读取数据，这里是完整的12256906条数据"
   ]
  },
  {
   "cell_type": "markdown",
   "metadata": {},
   "source": [
    "数据集来源：https://tianchi.aliyun.com/dataset/dataDetail?dataId=46"
   ]
  },
  {
   "cell_type": "code",
   "execution_count": 2,
   "metadata": {},
   "outputs": [],
   "source": [
    "# import pandas as pd\n",
    "# data=pd.read_csv('tianchi_mobile_recommend_train_user.csv')\n",
    "# data.head()\n",
    "# data.info()  "
   ]
  },
  {
   "cell_type": "markdown",
   "metadata": {},
   "source": [
    "### 数据量过大，所以这里随机抽取了100万条数据，并且存储为user.csv"
   ]
  },
  {
   "cell_type": "code",
   "execution_count": 3,
   "metadata": {},
   "outputs": [],
   "source": [
    "#随机、可放回抽样\n",
    "# data=data.sample(n=1000000,replace=True,axis=0) \n",
    "# data.to_csv(\"user.csv\")"
   ]
  },
  {
   "cell_type": "code",
   "execution_count": 4,
   "metadata": {},
   "outputs": [],
   "source": [
    "# 存储的user.csv文件\n",
    "import matplotlib.pyplot as plt\n",
    "import pandas as pd\n",
    "import matplotlib.pyplot as plt\n",
    "plt.rcParams['axes.unicode_minus'] = False\n",
    "plt.rcParams['font.sans-serif']=['SimHei']  #显示中文标签\n",
    "data=pd.read_csv('user.csv')"
   ]
  },
  {
   "cell_type": "code",
   "execution_count": 5,
   "metadata": {},
   "outputs": [
    {
     "data": {
      "text/html": [
       "<div>\n",
       "<style scoped>\n",
       "    .dataframe tbody tr th:only-of-type {\n",
       "        vertical-align: middle;\n",
       "    }\n",
       "\n",
       "    .dataframe tbody tr th {\n",
       "        vertical-align: top;\n",
       "    }\n",
       "\n",
       "    .dataframe thead th {\n",
       "        text-align: right;\n",
       "    }\n",
       "</style>\n",
       "<table border=\"1\" class=\"dataframe\">\n",
       "  <thead>\n",
       "    <tr style=\"text-align: right;\">\n",
       "      <th></th>\n",
       "      <th>user_id</th>\n",
       "      <th>item_id</th>\n",
       "      <th>behavior_type</th>\n",
       "      <th>user_geohash</th>\n",
       "      <th>item_category</th>\n",
       "      <th>time</th>\n",
       "    </tr>\n",
       "  </thead>\n",
       "  <tbody>\n",
       "    <tr>\n",
       "      <th>0</th>\n",
       "      <td>30282407</td>\n",
       "      <td>189836232</td>\n",
       "      <td>1</td>\n",
       "      <td>NaN</td>\n",
       "      <td>6431</td>\n",
       "      <td>2014-12-15 14</td>\n",
       "    </tr>\n",
       "    <tr>\n",
       "      <th>1</th>\n",
       "      <td>91557809</td>\n",
       "      <td>43134506</td>\n",
       "      <td>1</td>\n",
       "      <td>NaN</td>\n",
       "      <td>1863</td>\n",
       "      <td>2014-12-10 18</td>\n",
       "    </tr>\n",
       "    <tr>\n",
       "      <th>2</th>\n",
       "      <td>21233965</td>\n",
       "      <td>3776579</td>\n",
       "      <td>3</td>\n",
       "      <td>94rlqle</td>\n",
       "      <td>13664</td>\n",
       "      <td>2014-12-02 20</td>\n",
       "    </tr>\n",
       "    <tr>\n",
       "      <th>3</th>\n",
       "      <td>54590569</td>\n",
       "      <td>107237828</td>\n",
       "      <td>1</td>\n",
       "      <td>NaN</td>\n",
       "      <td>1863</td>\n",
       "      <td>2014-12-02 03</td>\n",
       "    </tr>\n",
       "    <tr>\n",
       "      <th>4</th>\n",
       "      <td>137120980</td>\n",
       "      <td>54431185</td>\n",
       "      <td>1</td>\n",
       "      <td>94jrwhn</td>\n",
       "      <td>5395</td>\n",
       "      <td>2014-12-09 17</td>\n",
       "    </tr>\n",
       "  </tbody>\n",
       "</table>\n",
       "</div>"
      ],
      "text/plain": [
       "     user_id    item_id  behavior_type user_geohash  item_category  \\\n",
       "0   30282407  189836232              1          NaN           6431   \n",
       "1   91557809   43134506              1          NaN           1863   \n",
       "2   21233965    3776579              3      94rlqle          13664   \n",
       "3   54590569  107237828              1          NaN           1863   \n",
       "4  137120980   54431185              1      94jrwhn           5395   \n",
       "\n",
       "            time  \n",
       "0  2014-12-15 14  \n",
       "1  2014-12-10 18  \n",
       "2  2014-12-02 20  \n",
       "3  2014-12-02 03  \n",
       "4  2014-12-09 17  "
      ]
     },
     "execution_count": 5,
     "metadata": {},
     "output_type": "execute_result"
    }
   ],
   "source": [
    "data.head()"
   ]
  },
  {
   "cell_type": "markdown",
   "metadata": {},
   "source": [
    "### 数据描述性分析"
   ]
  },
  {
   "cell_type": "code",
   "execution_count": 6,
   "metadata": {},
   "outputs": [
    {
     "name": "stdout",
     "output_type": "stream",
     "text": [
      "<class 'pandas.core.frame.DataFrame'>\n",
      "RangeIndex: 1000000 entries, 0 to 999999\n",
      "Data columns (total 6 columns):\n",
      " #   Column         Non-Null Count    Dtype \n",
      "---  ------         --------------    ----- \n",
      " 0   user_id        1000000 non-null  int64 \n",
      " 1   item_id        1000000 non-null  int64 \n",
      " 2   behavior_type  1000000 non-null  int64 \n",
      " 3   user_geohash   320202 non-null   object\n",
      " 4   item_category  1000000 non-null  int64 \n",
      " 5   time           1000000 non-null  object\n",
      "dtypes: int64(4), object(2)\n",
      "memory usage: 45.8+ MB\n"
     ]
    }
   ],
   "source": [
    "data.info()"
   ]
  },
  {
   "cell_type": "markdown",
   "metadata": {},
   "source": [
    "user_id：用户ID<br>\n",
    "item_id：商品ID<br>\n",
    "behavior_type：用户行为类型（包含点击、收藏、加购物车、支付四种行为，分别用数字1、2、3、4表示）<br>\n",
    "user_geohash：地理位置:这里进行了加密处理<br>\n",
    "item_category：品类ID（商品所属的品类）<br>\n",
    "time：用户行为发生的时间<br>"
   ]
  },
  {
   "cell_type": "markdown",
   "metadata": {},
   "source": [
    "### 数据缺失值处理"
   ]
  },
  {
   "cell_type": "markdown",
   "metadata": {},
   "source": [
    "user_geohash地理位置列，多数为NULL，且信息被加密处理，这里不做地理位置的研究。"
   ]
  },
  {
   "cell_type": "code",
   "execution_count": 7,
   "metadata": {},
   "outputs": [],
   "source": [
    "data.drop(['user_geohash'],axis=1,inplace=True)#这里user_geohash大量缺失不好填充，所以选择删除user_geohash这一特征"
   ]
  },
  {
   "cell_type": "markdown",
   "metadata": {},
   "source": [
    "### 数据一致性处理"
   ]
  },
  {
   "cell_type": "code",
   "execution_count": 8,
   "metadata": {},
   "outputs": [
    {
     "data": {
      "text/html": [
       "<div>\n",
       "<style scoped>\n",
       "    .dataframe tbody tr th:only-of-type {\n",
       "        vertical-align: middle;\n",
       "    }\n",
       "\n",
       "    .dataframe tbody tr th {\n",
       "        vertical-align: top;\n",
       "    }\n",
       "\n",
       "    .dataframe thead th {\n",
       "        text-align: right;\n",
       "    }\n",
       "</style>\n",
       "<table border=\"1\" class=\"dataframe\">\n",
       "  <thead>\n",
       "    <tr style=\"text-align: right;\">\n",
       "      <th></th>\n",
       "      <th>user_id</th>\n",
       "      <th>item_id</th>\n",
       "      <th>behavior_type</th>\n",
       "      <th>item_category</th>\n",
       "      <th>time</th>\n",
       "      <th>date</th>\n",
       "      <th>hour</th>\n",
       "    </tr>\n",
       "  </thead>\n",
       "  <tbody>\n",
       "    <tr>\n",
       "      <th>0</th>\n",
       "      <td>30282407</td>\n",
       "      <td>189836232</td>\n",
       "      <td>1</td>\n",
       "      <td>6431</td>\n",
       "      <td>2014-12-15 14</td>\n",
       "      <td>2014-12-15</td>\n",
       "      <td>14</td>\n",
       "    </tr>\n",
       "    <tr>\n",
       "      <th>1</th>\n",
       "      <td>91557809</td>\n",
       "      <td>43134506</td>\n",
       "      <td>1</td>\n",
       "      <td>1863</td>\n",
       "      <td>2014-12-10 18</td>\n",
       "      <td>2014-12-10</td>\n",
       "      <td>18</td>\n",
       "    </tr>\n",
       "    <tr>\n",
       "      <th>2</th>\n",
       "      <td>21233965</td>\n",
       "      <td>3776579</td>\n",
       "      <td>3</td>\n",
       "      <td>13664</td>\n",
       "      <td>2014-12-02 20</td>\n",
       "      <td>2014-12-02</td>\n",
       "      <td>20</td>\n",
       "    </tr>\n",
       "    <tr>\n",
       "      <th>3</th>\n",
       "      <td>54590569</td>\n",
       "      <td>107237828</td>\n",
       "      <td>1</td>\n",
       "      <td>1863</td>\n",
       "      <td>2014-12-02 03</td>\n",
       "      <td>2014-12-02</td>\n",
       "      <td>03</td>\n",
       "    </tr>\n",
       "    <tr>\n",
       "      <th>4</th>\n",
       "      <td>137120980</td>\n",
       "      <td>54431185</td>\n",
       "      <td>1</td>\n",
       "      <td>5395</td>\n",
       "      <td>2014-12-09 17</td>\n",
       "      <td>2014-12-09</td>\n",
       "      <td>17</td>\n",
       "    </tr>\n",
       "  </tbody>\n",
       "</table>\n",
       "</div>"
      ],
      "text/plain": [
       "     user_id    item_id  behavior_type  item_category           time  \\\n",
       "0   30282407  189836232              1           6431  2014-12-15 14   \n",
       "1   91557809   43134506              1           1863  2014-12-10 18   \n",
       "2   21233965    3776579              3          13664  2014-12-02 20   \n",
       "3   54590569  107237828              1           1863  2014-12-02 03   \n",
       "4  137120980   54431185              1           5395  2014-12-09 17   \n",
       "\n",
       "         date hour  \n",
       "0  2014-12-15   14  \n",
       "1  2014-12-10   18  \n",
       "2  2014-12-02   20  \n",
       "3  2014-12-02   03  \n",
       "4  2014-12-09   17  "
      ]
     },
     "execution_count": 8,
     "metadata": {},
     "output_type": "execute_result"
    }
   ],
   "source": [
    "#把time给拆开\n",
    "import re\n",
    "#拆分数据集\n",
    "data['date'] = data['time'].map(lambda s: re.compile(' ').split(s)[0])\n",
    "data['hour']=data['time'].map(lambda s:re.compile(' ').split(s)[1])\n",
    "data.head()"
   ]
  },
  {
   "cell_type": "code",
   "execution_count": 9,
   "metadata": {},
   "outputs": [],
   "source": [
    "#​将行为类型的代表数值用字符表示\n",
    "di = {1:'pv',2: 'collect',3:'cart',4:'buy'}\n",
    "data['behavior_type']= data['behavior_type'].apply(lambda x: di[x])"
   ]
  },
  {
   "cell_type": "code",
   "execution_count": 10,
   "metadata": {},
   "outputs": [
    {
     "data": {
      "text/html": [
       "<div>\n",
       "<style scoped>\n",
       "    .dataframe tbody tr th:only-of-type {\n",
       "        vertical-align: middle;\n",
       "    }\n",
       "\n",
       "    .dataframe tbody tr th {\n",
       "        vertical-align: top;\n",
       "    }\n",
       "\n",
       "    .dataframe thead th {\n",
       "        text-align: right;\n",
       "    }\n",
       "</style>\n",
       "<table border=\"1\" class=\"dataframe\">\n",
       "  <thead>\n",
       "    <tr style=\"text-align: right;\">\n",
       "      <th></th>\n",
       "      <th>user_id</th>\n",
       "      <th>item_id</th>\n",
       "      <th>behavior_type</th>\n",
       "      <th>item_category</th>\n",
       "      <th>time</th>\n",
       "      <th>date</th>\n",
       "      <th>hour</th>\n",
       "    </tr>\n",
       "  </thead>\n",
       "  <tbody>\n",
       "    <tr>\n",
       "      <th>0</th>\n",
       "      <td>30282407</td>\n",
       "      <td>189836232</td>\n",
       "      <td>pv</td>\n",
       "      <td>6431</td>\n",
       "      <td>2014-12-15 14</td>\n",
       "      <td>2014-12-15</td>\n",
       "      <td>14</td>\n",
       "    </tr>\n",
       "    <tr>\n",
       "      <th>1</th>\n",
       "      <td>91557809</td>\n",
       "      <td>43134506</td>\n",
       "      <td>pv</td>\n",
       "      <td>1863</td>\n",
       "      <td>2014-12-10 18</td>\n",
       "      <td>2014-12-10</td>\n",
       "      <td>18</td>\n",
       "    </tr>\n",
       "    <tr>\n",
       "      <th>2</th>\n",
       "      <td>21233965</td>\n",
       "      <td>3776579</td>\n",
       "      <td>cart</td>\n",
       "      <td>13664</td>\n",
       "      <td>2014-12-02 20</td>\n",
       "      <td>2014-12-02</td>\n",
       "      <td>20</td>\n",
       "    </tr>\n",
       "    <tr>\n",
       "      <th>3</th>\n",
       "      <td>54590569</td>\n",
       "      <td>107237828</td>\n",
       "      <td>pv</td>\n",
       "      <td>1863</td>\n",
       "      <td>2014-12-02 03</td>\n",
       "      <td>2014-12-02</td>\n",
       "      <td>03</td>\n",
       "    </tr>\n",
       "    <tr>\n",
       "      <th>4</th>\n",
       "      <td>137120980</td>\n",
       "      <td>54431185</td>\n",
       "      <td>pv</td>\n",
       "      <td>5395</td>\n",
       "      <td>2014-12-09 17</td>\n",
       "      <td>2014-12-09</td>\n",
       "      <td>17</td>\n",
       "    </tr>\n",
       "  </tbody>\n",
       "</table>\n",
       "</div>"
      ],
      "text/plain": [
       "     user_id    item_id behavior_type  item_category           time  \\\n",
       "0   30282407  189836232            pv           6431  2014-12-15 14   \n",
       "1   91557809   43134506            pv           1863  2014-12-10 18   \n",
       "2   21233965    3776579          cart          13664  2014-12-02 20   \n",
       "3   54590569  107237828            pv           1863  2014-12-02 03   \n",
       "4  137120980   54431185            pv           5395  2014-12-09 17   \n",
       "\n",
       "         date hour  \n",
       "0  2014-12-15   14  \n",
       "1  2014-12-10   18  \n",
       "2  2014-12-02   20  \n",
       "3  2014-12-02   03  \n",
       "4  2014-12-09   17  "
      ]
     },
     "execution_count": 10,
     "metadata": {},
     "output_type": "execute_result"
    }
   ],
   "source": [
    "data.head()"
   ]
  },
  {
   "cell_type": "code",
   "execution_count": 11,
   "metadata": {},
   "outputs": [
    {
     "data": {
      "text/plain": [
       "user_id           int64\n",
       "item_id           int64\n",
       "behavior_type    object\n",
       "item_category     int64\n",
       "time             object\n",
       "date             object\n",
       "hour             object\n",
       "dtype: object"
      ]
     },
     "execution_count": 11,
     "metadata": {},
     "output_type": "execute_result"
    }
   ],
   "source": [
    "data.dtypes"
   ]
  },
  {
   "cell_type": "code",
   "execution_count": 12,
   "metadata": {},
   "outputs": [],
   "source": [
    "#time列和date列应该转化为日期类数据类型，hour列应该是int数据类型。\n",
    "#数据类型转化\n",
    "data['date']=pd.to_datetime(data['date'])\n",
    "data['time']=pd.to_datetime(data['time'])\n",
    "data['hour']=data['hour'].astype('int64')"
   ]
  },
  {
   "cell_type": "code",
   "execution_count": 13,
   "metadata": {},
   "outputs": [
    {
     "data": {
      "text/plain": [
       "user_id                   int64\n",
       "item_id                   int64\n",
       "behavior_type            object\n",
       "item_category             int64\n",
       "time             datetime64[ns]\n",
       "date             datetime64[ns]\n",
       "hour                      int64\n",
       "dtype: object"
      ]
     },
     "execution_count": 13,
     "metadata": {},
     "output_type": "execute_result"
    }
   ],
   "source": [
    "data.dtypes"
   ]
  },
  {
   "cell_type": "markdown",
   "metadata": {},
   "source": [
    "### 用户行为分析：基本用户购物情况数据统计"
   ]
  },
  {
   "cell_type": "markdown",
   "metadata": {},
   "source": [
    "（1）pv：Page View, 即页面浏览量或点击量，用户每次刷新即被计算一次。这组数据中pv数为942150<br>"
   ]
  },
  {
   "cell_type": "code",
   "execution_count": 14,
   "metadata": {},
   "outputs": [
    {
     "data": {
      "text/plain": [
       "pv         942150\n",
       "cart        28242\n",
       "collect     19837\n",
       "buy          9771\n",
       "Name: behavior_type, dtype: int64"
      ]
     },
     "execution_count": 14,
     "metadata": {},
     "output_type": "execute_result"
    }
   ],
   "source": [
    "data['behavior_type'].value_counts()"
   ]
  },
  {
   "cell_type": "code",
   "execution_count": 15,
   "metadata": {},
   "outputs": [
    {
     "data": {
      "text/plain": [
       "behavior_type\n",
       "buy          9771\n",
       "cart        28242\n",
       "collect     19837\n",
       "pv         942150\n",
       "Name: user_id, dtype: int64"
      ]
     },
     "execution_count": 15,
     "metadata": {},
     "output_type": "execute_result"
    }
   ],
   "source": [
    "data.groupby(['behavior_type'])['user_id'].count()"
   ]
  },
  {
   "cell_type": "code",
   "execution_count": 16,
   "metadata": {},
   "outputs": [
    {
     "data": {
      "text/plain": [
       "36233277     2611\n",
       "65645933     1717\n",
       "59511789     1652\n",
       "73196588     1652\n",
       "130270245    1580\n",
       "             ... \n",
       "50157359        1\n",
       "88574383        1\n",
       "10557490        1\n",
       "97821126        1\n",
       "88660059        1\n",
       "Name: user_id, Length: 9924, dtype: int64"
      ]
     },
     "execution_count": 16,
     "metadata": {},
     "output_type": "execute_result"
    }
   ],
   "source": [
    "data['user_id'].value_counts()"
   ]
  },
  {
   "cell_type": "markdown",
   "metadata": {},
   "source": [
    "这里可以看出数据中有重复出现的顾客，所以我们来看一下独立访客也就是UV,这里显示Length为9924，独立存在的用户"
   ]
  },
  {
   "cell_type": "markdown",
   "metadata": {},
   "source": [
    "（2）UV（用户总数）：9924 UV(独立访客)：即Unique Visitor,访问网站的一台电脑客户端为一个访客。00:00-24:00内相同的客户端只被计算一次。"
   ]
  },
  {
   "cell_type": "code",
   "execution_count": 17,
   "metadata": {},
   "outputs": [
    {
     "data": {
      "text/plain": [
       "user_id          9924\n",
       "item_id          9924\n",
       "behavior_type    9924\n",
       "item_category    9924\n",
       "time             9924\n",
       "date             9924\n",
       "hour             9924\n",
       "dtype: int64"
      ]
     },
     "execution_count": 17,
     "metadata": {},
     "output_type": "execute_result"
    }
   ],
   "source": [
    "# drop_duplicates是pandas中的去重方法\n",
    "data.drop_duplicates('user_id').count()"
   ]
  },
  {
   "cell_type": "code",
   "execution_count": 18,
   "metadata": {},
   "outputs": [
    {
     "data": {
      "text/plain": [
       "9924"
      ]
     },
     "execution_count": 18,
     "metadata": {},
     "output_type": "execute_result"
    }
   ],
   "source": [
    "data.user_id.nunique()"
   ]
  },
  {
   "cell_type": "markdown",
   "metadata": {},
   "source": [
    "（3）分析有购买行为的用户数：4522"
   ]
  },
  {
   "cell_type": "code",
   "execution_count": 19,
   "metadata": {},
   "outputs": [
    {
     "data": {
      "text/plain": [
       "4522"
      ]
     },
     "execution_count": 19,
     "metadata": {},
     "output_type": "execute_result"
    }
   ],
   "source": [
    "data_buy=data[data['behavior_type']=='buy']\n",
    "data_buy.head()\n",
    "data_buy.drop_duplicates('user_id')['behavior_type'].count()"
   ]
  },
  {
   "cell_type": "markdown",
   "metadata": {},
   "source": [
    "### 用户行为分析：从时间维度分析"
   ]
  },
  {
   "cell_type": "markdown",
   "metadata": {},
   "source": [
    "（1）每周的用户行为数量变化趋势"
   ]
  },
  {
   "cell_type": "code",
   "execution_count": 20,
   "metadata": {},
   "outputs": [
    {
     "data": {
      "text/html": [
       "<div>\n",
       "<style scoped>\n",
       "    .dataframe tbody tr th:only-of-type {\n",
       "        vertical-align: middle;\n",
       "    }\n",
       "\n",
       "    .dataframe tbody tr th {\n",
       "        vertical-align: top;\n",
       "    }\n",
       "\n",
       "    .dataframe thead th {\n",
       "        text-align: right;\n",
       "    }\n",
       "</style>\n",
       "<table border=\"1\" class=\"dataframe\">\n",
       "  <thead>\n",
       "    <tr style=\"text-align: right;\">\n",
       "      <th></th>\n",
       "      <th>user_id</th>\n",
       "      <th>item_id</th>\n",
       "      <th>behavior_type</th>\n",
       "      <th>item_category</th>\n",
       "      <th>time</th>\n",
       "      <th>date</th>\n",
       "      <th>hour</th>\n",
       "    </tr>\n",
       "  </thead>\n",
       "  <tbody>\n",
       "    <tr>\n",
       "      <th>0</th>\n",
       "      <td>30282407</td>\n",
       "      <td>189836232</td>\n",
       "      <td>pv</td>\n",
       "      <td>6431</td>\n",
       "      <td>2014-12-15 14:00:00</td>\n",
       "      <td>2014-12-15</td>\n",
       "      <td>14</td>\n",
       "    </tr>\n",
       "    <tr>\n",
       "      <th>1</th>\n",
       "      <td>91557809</td>\n",
       "      <td>43134506</td>\n",
       "      <td>pv</td>\n",
       "      <td>1863</td>\n",
       "      <td>2014-12-10 18:00:00</td>\n",
       "      <td>2014-12-10</td>\n",
       "      <td>18</td>\n",
       "    </tr>\n",
       "    <tr>\n",
       "      <th>2</th>\n",
       "      <td>21233965</td>\n",
       "      <td>3776579</td>\n",
       "      <td>cart</td>\n",
       "      <td>13664</td>\n",
       "      <td>2014-12-02 20:00:00</td>\n",
       "      <td>2014-12-02</td>\n",
       "      <td>20</td>\n",
       "    </tr>\n",
       "    <tr>\n",
       "      <th>3</th>\n",
       "      <td>54590569</td>\n",
       "      <td>107237828</td>\n",
       "      <td>pv</td>\n",
       "      <td>1863</td>\n",
       "      <td>2014-12-02 03:00:00</td>\n",
       "      <td>2014-12-02</td>\n",
       "      <td>3</td>\n",
       "    </tr>\n",
       "    <tr>\n",
       "      <th>4</th>\n",
       "      <td>137120980</td>\n",
       "      <td>54431185</td>\n",
       "      <td>pv</td>\n",
       "      <td>5395</td>\n",
       "      <td>2014-12-09 17:00:00</td>\n",
       "      <td>2014-12-09</td>\n",
       "      <td>17</td>\n",
       "    </tr>\n",
       "  </tbody>\n",
       "</table>\n",
       "</div>"
      ],
      "text/plain": [
       "     user_id    item_id behavior_type  item_category                time  \\\n",
       "0   30282407  189836232            pv           6431 2014-12-15 14:00:00   \n",
       "1   91557809   43134506            pv           1863 2014-12-10 18:00:00   \n",
       "2   21233965    3776579          cart          13664 2014-12-02 20:00:00   \n",
       "3   54590569  107237828            pv           1863 2014-12-02 03:00:00   \n",
       "4  137120980   54431185            pv           5395 2014-12-09 17:00:00   \n",
       "\n",
       "        date  hour  \n",
       "0 2014-12-15    14  \n",
       "1 2014-12-10    18  \n",
       "2 2014-12-02    20  \n",
       "3 2014-12-02     3  \n",
       "4 2014-12-09    17  "
      ]
     },
     "execution_count": 20,
     "metadata": {},
     "output_type": "execute_result"
    }
   ],
   "source": [
    "data.head()"
   ]
  },
  {
   "cell_type": "code",
   "execution_count": 21,
   "metadata": {},
   "outputs": [
    {
     "data": {
      "text/html": [
       "<div>\n",
       "<style scoped>\n",
       "    .dataframe tbody tr th:only-of-type {\n",
       "        vertical-align: middle;\n",
       "    }\n",
       "\n",
       "    .dataframe tbody tr th {\n",
       "        vertical-align: top;\n",
       "    }\n",
       "\n",
       "    .dataframe thead th {\n",
       "        text-align: right;\n",
       "    }\n",
       "</style>\n",
       "<table border=\"1\" class=\"dataframe\">\n",
       "  <thead>\n",
       "    <tr style=\"text-align: right;\">\n",
       "      <th></th>\n",
       "      <th>user_id</th>\n",
       "      <th>item_id</th>\n",
       "      <th>behavior_type</th>\n",
       "      <th>item_category</th>\n",
       "      <th>time</th>\n",
       "      <th>date</th>\n",
       "      <th>hour</th>\n",
       "      <th>week</th>\n",
       "    </tr>\n",
       "  </thead>\n",
       "  <tbody>\n",
       "    <tr>\n",
       "      <th>0</th>\n",
       "      <td>30282407</td>\n",
       "      <td>189836232</td>\n",
       "      <td>pv</td>\n",
       "      <td>6431</td>\n",
       "      <td>2014-12-15 14:00:00</td>\n",
       "      <td>2014-12-15</td>\n",
       "      <td>14</td>\n",
       "      <td>0</td>\n",
       "    </tr>\n",
       "    <tr>\n",
       "      <th>1</th>\n",
       "      <td>91557809</td>\n",
       "      <td>43134506</td>\n",
       "      <td>pv</td>\n",
       "      <td>1863</td>\n",
       "      <td>2014-12-10 18:00:00</td>\n",
       "      <td>2014-12-10</td>\n",
       "      <td>18</td>\n",
       "      <td>2</td>\n",
       "    </tr>\n",
       "    <tr>\n",
       "      <th>2</th>\n",
       "      <td>21233965</td>\n",
       "      <td>3776579</td>\n",
       "      <td>cart</td>\n",
       "      <td>13664</td>\n",
       "      <td>2014-12-02 20:00:00</td>\n",
       "      <td>2014-12-02</td>\n",
       "      <td>20</td>\n",
       "      <td>1</td>\n",
       "    </tr>\n",
       "    <tr>\n",
       "      <th>3</th>\n",
       "      <td>54590569</td>\n",
       "      <td>107237828</td>\n",
       "      <td>pv</td>\n",
       "      <td>1863</td>\n",
       "      <td>2014-12-02 03:00:00</td>\n",
       "      <td>2014-12-02</td>\n",
       "      <td>3</td>\n",
       "      <td>1</td>\n",
       "    </tr>\n",
       "    <tr>\n",
       "      <th>4</th>\n",
       "      <td>137120980</td>\n",
       "      <td>54431185</td>\n",
       "      <td>pv</td>\n",
       "      <td>5395</td>\n",
       "      <td>2014-12-09 17:00:00</td>\n",
       "      <td>2014-12-09</td>\n",
       "      <td>17</td>\n",
       "      <td>1</td>\n",
       "    </tr>\n",
       "  </tbody>\n",
       "</table>\n",
       "</div>"
      ],
      "text/plain": [
       "     user_id    item_id behavior_type  item_category                time  \\\n",
       "0   30282407  189836232            pv           6431 2014-12-15 14:00:00   \n",
       "1   91557809   43134506            pv           1863 2014-12-10 18:00:00   \n",
       "2   21233965    3776579          cart          13664 2014-12-02 20:00:00   \n",
       "3   54590569  107237828            pv           1863 2014-12-02 03:00:00   \n",
       "4  137120980   54431185            pv           5395 2014-12-09 17:00:00   \n",
       "\n",
       "        date  hour  week  \n",
       "0 2014-12-15    14     0  \n",
       "1 2014-12-10    18     2  \n",
       "2 2014-12-02    20     1  \n",
       "3 2014-12-02     3     1  \n",
       "4 2014-12-09    17     1  "
      ]
     },
     "execution_count": 21,
     "metadata": {},
     "output_type": "execute_result"
    }
   ],
   "source": [
    "import matplotlib.pyplot as plt\n",
    "plt.rcParams['axes.unicode_minus'] = False\n",
    "plt.rcParams['font.sans-serif']=['SimHei']  #显示中文标签\n",
    "import numpy as np\n",
    "data['week']=[i.weekday() for i in data['time']]\n",
    "data.head()"
   ]
  },
  {
   "cell_type": "code",
   "execution_count": 22,
   "metadata": {},
   "outputs": [
    {
     "data": {
      "text/plain": [
       "1    126743\n",
       "2    157728\n",
       "3    158390\n",
       "4    162079\n",
       "5    140821\n",
       "6    124427\n",
       "7    129812\n",
       "Name: user_id, dtype: int64"
      ]
     },
     "execution_count": 22,
     "metadata": {},
     "output_type": "execute_result"
    }
   ],
   "source": [
    "df_week=data.groupby('week')['user_id'].count()\n",
    "df_week\n",
    "df_week.index=[1,2,3,4,5,6,7]\n",
    "df_week"
   ]
  },
  {
   "cell_type": "code",
   "execution_count": 23,
   "metadata": {},
   "outputs": [
    {
     "data": {
      "text/plain": [
       "[<matplotlib.lines.Line2D at 0x7fa7a29fa160>]"
      ]
     },
     "execution_count": 23,
     "metadata": {},
     "output_type": "execute_result"
    },
    {
     "data": {
      "image/png": "[encoded data removed]",
      "text/plain": [
       "<Figure size 1080x288 with 1 Axes>"
      ]
     },
     "metadata": {
      "needs_background": "light"
     },
     "output_type": "display_data"
    }
   ],
   "source": [
    "fig=plt.figure(figsize=(15,4))\n",
    "plt.title('每周的用户行为数量变化趋势',fontsize='27')\n",
    "plt.xticks(df_week.index)\n",
    "plt.plot(df_week.index,df_week)"
   ]
  },
  {
   "cell_type": "markdown",
   "metadata": {},
   "source": [
    "从这里可以看到，周一到周二的用户行为逐渐增加，周二-周四达到一个稳定值，周四到-周六用户行为明显减少，周六为一周最低，周六后开始逐渐增加。"
   ]
  },
  {
   "cell_type": "markdown",
   "metadata": {},
   "source": [
    "（2）每天PV变化趋势分析"
   ]
  },
  {
   "cell_type": "code",
   "execution_count": 24,
   "metadata": {},
   "outputs": [
    {
     "data": {
      "text/plain": [
       "date\n",
       "2014-11-18    28260\n",
       "2014-11-19    27541\n",
       "2014-11-20    26881\n",
       "2014-11-21    25736\n",
       "2014-11-22    27960\n",
       "2014-11-23    29554\n",
       "2014-11-24    29057\n",
       "2014-11-25    28417\n",
       "2014-11-26    27793\n",
       "2014-11-27    28526\n",
       "2014-11-28    26133\n",
       "2014-11-29    28047\n",
       "2014-11-30    31133\n",
       "2014-12-01    30271\n",
       "2014-12-02    31066\n",
       "2014-12-03    31889\n",
       "2014-12-04    30580\n",
       "2014-12-05    28036\n",
       "2014-12-06    29568\n",
       "2014-12-07    30551\n",
       "2014-12-08    29570\n",
       "2014-12-09    30424\n",
       "2014-12-10    32737\n",
       "2014-12-11    37769\n",
       "2014-12-12    51986\n",
       "2014-12-13    31894\n",
       "2014-12-14    31225\n",
       "2014-12-15    30541\n",
       "2014-12-16    30581\n",
       "2014-12-17    29483\n",
       "2014-12-18    28941\n",
       "Name: user_id, dtype: int64"
      ]
     },
     "execution_count": 24,
     "metadata": {},
     "output_type": "execute_result"
    }
   ],
   "source": [
    "data1=data[data['behavior_type']=='pv']\n",
    "day_pv=data1.groupby(['date'])['user_id'].count()\n",
    "day_pv"
   ]
  },
  {
   "cell_type": "code",
   "execution_count": 25,
   "metadata": {
    "scrolled": true
   },
   "outputs": [],
   "source": [
    "# plt.plot(day_pv.index,day_pv)"
   ]
  },
  {
   "cell_type": "code",
   "execution_count": 26,
   "metadata": {},
   "outputs": [
    {
     "data": {
      "text/plain": [
       "DatetimeIndex(['2014-11-18', '2014-11-19', '2014-11-20', '2014-11-21',\n",
       "               '2014-11-22', '2014-11-23', '2014-11-24', '2014-11-25',\n",
       "               '2014-11-26', '2014-11-27', '2014-11-28', '2014-11-29',\n",
       "               '2014-11-30', '2014-12-01', '2014-12-02', '2014-12-03',\n",
       "               '2014-12-04', '2014-12-05', '2014-12-06', '2014-12-07',\n",
       "               '2014-12-08', '2014-12-09', '2014-12-10', '2014-12-11',\n",
       "               '2014-12-12', '2014-12-13', '2014-12-14', '2014-12-15',\n",
       "               '2014-12-16', '2014-12-17', '2014-12-18'],\n",
       "              dtype='datetime64[ns]', freq='D')"
      ]
     },
     "execution_count": 26,
     "metadata": {},
     "output_type": "execute_result"
    }
   ],
   "source": [
    "pd.date_range(day_pv.index[0],day_pv.index[-1],freq='D')"
   ]
  },
  {
   "cell_type": "code",
   "execution_count": 27,
   "metadata": {},
   "outputs": [
    {
     "data": {
      "text/plain": [
       "[<matplotlib.lines.Line2D at 0x7fa7af24bc50>]"
      ]
     },
     "execution_count": 27,
     "metadata": {},
     "output_type": "execute_result"
    },
    {
     "data": {
      "image/png": "[encoded data removed]",
      "text/plain": [
       "<Figure size 1080x288 with 1 Axes>"
      ]
     },
     "metadata": {
      "needs_background": "light"
     },
     "output_type": "display_data"
    }
   ],
   "source": [
    "import matplotlib.dates as mdate\n",
    "fig=plt.figure(figsize=(15,4))\n",
    "plt.title('每天PV变化趋势分析')\n",
    "ax=fig.add_subplot(111)\n",
    "ax.xaxis.set_major_formatter(mdate.DateFormatter('%Y-%m-%d'))\n",
    "plt.xticks(pd.date_range(day_pv.index[0],day_pv.index[-1],freq='D'),rotation=45)\n",
    "ax.plot(day_pv.index,day_pv)"
   ]
  },
  {
   "cell_type": "markdown",
   "metadata": {},
   "source": [
    "从这个图可以看出，在12月份开始，用户行为逐渐有增多趋势，尤其在12月9日开始，用户行为明显高于其他时期，这几天用户行为增多是因为淘宝的“双十二”活动。"
   ]
  },
  {
   "cell_type": "markdown",
   "metadata": {},
   "source": [
    "用户总数变化趋势与PV量变化趋势类似，在双十二期间，用户总数明显上升，活动过后，人数明显下降至平稳状态。"
   ]
  },
  {
   "cell_type": "markdown",
   "metadata": {},
   "source": [
    "（3）分析一天中的不同时段用户的行为"
   ]
  },
  {
   "cell_type": "code",
   "execution_count": 28,
   "metadata": {},
   "outputs": [
    {
     "data": {
      "text/plain": [
       "hour\n",
       "0     42660\n",
       "1     21916\n",
       "2     11981\n",
       "3      8086\n",
       "4      6553\n",
       "5      7242\n",
       "6     12918\n",
       "7     23508\n",
       "8     32250\n",
       "9     39646\n",
       "10    45033\n",
       "11    42578\n",
       "12    43268\n",
       "13    49048\n",
       "14    48543\n",
       "15    48957\n",
       "16    46674\n",
       "17    41353\n",
       "18    44623\n",
       "19    59674\n",
       "20    76323\n",
       "21    89275\n",
       "22    89093\n",
       "23    68798\n",
       "Name: user_id, dtype: int64"
      ]
     },
     "execution_count": 28,
     "metadata": {},
     "output_type": "execute_result"
    }
   ],
   "source": [
    "lista=['hour','user_id']\n",
    "data_hour= data[lista]\n",
    "data_hour.head()\n",
    "df=data_hour.groupby('hour')['user_id'].count()\n",
    "df"
   ]
  },
  {
   "cell_type": "code",
   "execution_count": 29,
   "metadata": {},
   "outputs": [
    {
     "data": {
      "text/plain": [
       "[<matplotlib.lines.Line2D at 0x7fa7af135f60>]"
      ]
     },
     "execution_count": 29,
     "metadata": {},
     "output_type": "execute_result"
    },
    {
     "data": {
      "image/png": "[encoded data removed]",
      "text/plain": [
       "<Figure size 1080x288 with 1 Axes>"
      ]
     },
     "metadata": {
      "needs_background": "light"
     },
     "output_type": "display_data"
    }
   ],
   "source": [
    "fig=plt.figure(figsize=(15,4))\n",
    "plt.title('分析一天中的不同时段用户的行为',fontsize=28)\n",
    "plt.xticks(np.arange(24),rotation=45)\n",
    "ax=fig.add_subplot(111)\n",
    "ax.plot(df.index,df)"
   ]
  },
  {
   "cell_type": "markdown",
   "metadata": {},
   "source": [
    "从图形中可以看到，从晚上10点到凌晨5点，用户数量逐渐降低，降为一天之中最少，因为此段时间大多数人处于休息之中。\n",
    "从早上6点开始，用户行为数量逐渐增多，直至上午10点左右。10点-18：00用户行为数量一直保持一个平稳的状态，用户行为数量很稳定。18：00过后，很多人已经下班，有闲暇时间，用户行为数量逐渐增加，直至一天之中的最高值。如果运营人员采取活动，可以参考用户比较活跃的时间段。因此晚上18：00以后是淘宝用户访问app的活跃时间段。"
   ]
  },
  {
   "cell_type": "markdown",
   "metadata": {},
   "source": [
    "大部分用户的主要活跃时间段为9：00-22：00，其中18：00-22：00开始逐渐增加，达到一天之中的顶峰。每周的主要活跃时间为周二至周四，运营人员可根据活跃时间进行相关的活动"
   ]
  },
  {
   "cell_type": "code",
   "execution_count": 31,
   "metadata": {},
   "outputs": [
    {
     "name": "stderr",
     "output_type": "stream",
     "text": [
      "No handles with labels found to put in legend.\n"
     ]
    },
    {
     "data": {
      "image/png": "[encoded data removed]",
      "text/plain": [
       "<Figure size 1440x504 with 1 Axes>"
      ]
     },
     "metadata": {
      "needs_background": "light"
     },
     "output_type": "display_data"
    }
   ],
   "source": [
    "# https://blog.csdn.net/zengbowengood/article/details/104324293\n",
    "plt.figure(figsize=(20,7))\n",
    "product_top= data[data.behavior_type == 'pv']['item_id'].value_counts().head(10)\n",
    "product_top\n",
    "X=product_top.index\n",
    "Y=product_top.values\n",
    "plt.bar(range(len(X)),Y,tick_label=X,color='g',width=0.5) \n",
    "for x,y in enumerate(Y):\n",
    "    plt.text(x,y,y,horizontalalignment='center',fontsize=18)\n",
    "plt.ylabel('数量',size='18')\n",
    "plt.xlabel('商品ID',size='18')\n",
    "plt.xticks(fontsize=15)\n",
    "plt.yticks(fontsize=15) \n",
    "plt.legend()\n",
    "plt.title('浏览量Top10商品',fontsize=18)\n",
    "plt.show()\n",
    "# X"
   ]
  },
  {
   "cell_type": "markdown",
   "metadata": {},
   "source": [
    "### 用户行为转换率分析"
   ]
  },
  {
   "cell_type": "code",
   "execution_count": 32,
   "metadata": {},
   "outputs": [
    {
     "data": {
      "text/plain": [
       "0.010370960038210477"
      ]
     },
     "execution_count": 32,
     "metadata": {},
     "output_type": "execute_result"
    }
   ],
   "source": [
    "# 这里我们分析从观看浏览，到最后购买的占比\n",
    "pv_count=data[data['behavior_type']=='pv']['user_id'].count()\n",
    "buy_count=data[data['behavior_type']=='buy']['user_id'].count()\n",
    "pv_to_buy=buy_count/pv_count\n",
    "pv_to_buy"
   ]
  },
  {
   "cell_type": "code",
   "execution_count": 33,
   "metadata": {},
   "outputs": [
    {
     "data": {
      "text/html": [
       "<div>\n",
       "<style scoped>\n",
       "    .dataframe tbody tr th:only-of-type {\n",
       "        vertical-align: middle;\n",
       "    }\n",
       "\n",
       "    .dataframe tbody tr th {\n",
       "        vertical-align: top;\n",
       "    }\n",
       "\n",
       "    .dataframe thead th {\n",
       "        text-align: right;\n",
       "    }\n",
       "</style>\n",
       "<table border=\"1\" class=\"dataframe\">\n",
       "  <thead>\n",
       "    <tr style=\"text-align: right;\">\n",
       "      <th></th>\n",
       "      <th>用户行为</th>\n",
       "      <th>人数</th>\n",
       "    </tr>\n",
       "  </thead>\n",
       "  <tbody>\n",
       "    <tr>\n",
       "      <th>0</th>\n",
       "      <td>pv</td>\n",
       "      <td>942150</td>\n",
       "    </tr>\n",
       "    <tr>\n",
       "      <th>1</th>\n",
       "      <td>middle</td>\n",
       "      <td>48079</td>\n",
       "    </tr>\n",
       "    <tr>\n",
       "      <th>2</th>\n",
       "      <td>buy</td>\n",
       "      <td>9771</td>\n",
       "    </tr>\n",
       "  </tbody>\n",
       "</table>\n",
       "</div>"
      ],
      "text/plain": [
       "     用户行为      人数\n",
       "0      pv  942150\n",
       "1  middle   48079\n",
       "2     buy    9771"
      ]
     },
     "execution_count": 33,
     "metadata": {},
     "output_type": "execute_result"
    }
   ],
   "source": [
    "pv_num=data[data['behavior_type']=='pv']['user_id'].count()\n",
    "collect_num=data[data['behavior_type']=='collect']['user_id'].count()\n",
    "cart_num=data[data['behavior_type']=='cart']['user_id'].count()\n",
    "buy_num=data[data['behavior_type']=='buy']['user_id'].count()\n",
    "\n",
    "middle_num=collect_num+cart_num\n",
    "data1={'用户行为':['pv','middle','buy'],\n",
    "      '人数':[pv_num,middle_num,buy_num]}\n",
    "result=pd.DataFrame(data1)\n",
    "result"
   ]
  },
  {
   "cell_type": "code",
   "execution_count": null,
   "metadata": {},
   "outputs": [],
   "source": [
    "# 单一环节转化率：\n",
    "# 1、48079，942150\n",
    "# 2、9771，48079\n",
    "# 48079，9771  \n",
    "# 942150 48079"
   ]
  },
  {
   "cell_type": "code",
   "execution_count": 34,
   "metadata": {},
   "outputs": [
    {
     "data": {
      "text/html": [
       "<div>\n",
       "<style scoped>\n",
       "    .dataframe tbody tr th:only-of-type {\n",
       "        vertical-align: middle;\n",
       "    }\n",
       "\n",
       "    .dataframe tbody tr th {\n",
       "        vertical-align: top;\n",
       "    }\n",
       "\n",
       "    .dataframe thead th {\n",
       "        text-align: right;\n",
       "    }\n",
       "</style>\n",
       "<table border=\"1\" class=\"dataframe\">\n",
       "  <thead>\n",
       "    <tr style=\"text-align: right;\">\n",
       "      <th></th>\n",
       "      <th>用户行为</th>\n",
       "      <th>人数</th>\n",
       "      <th>单一环节转化率</th>\n",
       "    </tr>\n",
       "  </thead>\n",
       "  <tbody>\n",
       "    <tr>\n",
       "      <th>0</th>\n",
       "      <td>pv</td>\n",
       "      <td>942150</td>\n",
       "      <td>1.0000</td>\n",
       "    </tr>\n",
       "    <tr>\n",
       "      <th>1</th>\n",
       "      <td>middle</td>\n",
       "      <td>48079</td>\n",
       "      <td>0.0510</td>\n",
       "    </tr>\n",
       "    <tr>\n",
       "      <th>2</th>\n",
       "      <td>buy</td>\n",
       "      <td>9771</td>\n",
       "      <td>0.2032</td>\n",
       "    </tr>\n",
       "  </tbody>\n",
       "</table>\n",
       "</div>"
      ],
      "text/plain": [
       "     用户行为      人数  单一环节转化率\n",
       "0      pv  942150   1.0000\n",
       "1  middle   48079   0.0510\n",
       "2     buy    9771   0.2032"
      ]
     },
     "execution_count": 34,
     "metadata": {},
     "output_type": "execute_result"
    }
   ],
   "source": [
    "#计算单环节转化率\n",
    "temp1=np.array(result['人数'][1:])\n",
    "temp2=np.array(result['人数'][0:-1])\n",
    "temp1,temp2\n",
    "single_link=temp1/temp2\n",
    "single_link=list(single_link)\n",
    "single_link\n",
    "single_link.insert(0,1)\n",
    "single_link\n",
    "single_link=[round(x,4) for x in single_link]\n",
    "result['单一环节转化率']=single_link\n",
    "result"
   ]
  },
  {
   "cell_type": "code",
   "execution_count": 35,
   "metadata": {},
   "outputs": [
    {
     "data": {
      "text/html": [
       "<div>\n",
       "<style scoped>\n",
       "    .dataframe tbody tr th:only-of-type {\n",
       "        vertical-align: middle;\n",
       "    }\n",
       "\n",
       "    .dataframe tbody tr th {\n",
       "        vertical-align: top;\n",
       "    }\n",
       "\n",
       "    .dataframe thead th {\n",
       "        text-align: right;\n",
       "    }\n",
       "</style>\n",
       "<table border=\"1\" class=\"dataframe\">\n",
       "  <thead>\n",
       "    <tr style=\"text-align: right;\">\n",
       "      <th></th>\n",
       "      <th>用户行为</th>\n",
       "      <th>人数</th>\n",
       "      <th>单一环节转化率</th>\n",
       "      <th>总体转化率</th>\n",
       "    </tr>\n",
       "  </thead>\n",
       "  <tbody>\n",
       "    <tr>\n",
       "      <th>0</th>\n",
       "      <td>pv</td>\n",
       "      <td>942150</td>\n",
       "      <td>1.0000</td>\n",
       "      <td>1.0000</td>\n",
       "    </tr>\n",
       "    <tr>\n",
       "      <th>1</th>\n",
       "      <td>middle</td>\n",
       "      <td>48079</td>\n",
       "      <td>0.0510</td>\n",
       "      <td>0.0510</td>\n",
       "    </tr>\n",
       "    <tr>\n",
       "      <th>2</th>\n",
       "      <td>buy</td>\n",
       "      <td>9771</td>\n",
       "      <td>0.2032</td>\n",
       "      <td>0.0104</td>\n",
       "    </tr>\n",
       "  </tbody>\n",
       "</table>\n",
       "</div>"
      ],
      "text/plain": [
       "     用户行为      人数  单一环节转化率   总体转化率\n",
       "0      pv  942150   1.0000  1.0000\n",
       "1  middle   48079   0.0510  0.0510\n",
       "2     buy    9771   0.2032  0.0104"
      ]
     },
     "execution_count": 35,
     "metadata": {},
     "output_type": "execute_result"
    }
   ],
   "source": [
    "#求总体转化率\n",
    "temp3=np.array(result['人数'])\n",
    "temp4=np.ones(len(result['人数']))*result['人数'][0]\n",
    "temp3,temp4\n",
    "total_links=list(temp3/temp4)\n",
    "total_links\n",
    "total_links=[round(x,4) for x in total_links]\n",
    "result['总体转化率']=total_links\n",
    "result"
   ]
  },
  {
   "cell_type": "markdown",
   "metadata": {},
   "source": [
    "分析结论：用户点击后，收藏或者加购物车的概率在5%左右，而最后真正的购买率在1%，已经收藏或者加购物车到最终购买的转化率为20.32%，购买转化率很低，后面可以采取活动提高购买转化率。"
   ]
  }
 ],
 "metadata": {
  "kernelspec": {
   "display_name": "Python 3",
   "language": "python",
   "name": "python3"
  },
  "language_info": {
   "codemirror_mode": {
    "name": "ipython",
    "version": 3
   },
   "file_extension": ".py",
   "mimetype": "text/x-python",
   "name": "python",
   "nbconvert_exporter": "python",
   "pygments_lexer": "ipython3",
   "version": "3.6.9"
  }
 },
 "nbformat": 4,
 "nbformat_minor": 2
}
